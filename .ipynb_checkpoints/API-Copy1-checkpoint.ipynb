{
 "cells": [
  {
   "cell_type": "code",
   "execution_count": 1,
   "id": "b2edd02e",
   "metadata": {},
   "outputs": [
    {
     "name": "stderr",
     "output_type": "stream",
     "text": [
      "Using `tqdm.autonotebook.tqdm` in notebook mode. Use `tqdm.tqdm` instead to force console mode (e.g. in jupyter console)\n"
     ]
    }
   ],
   "source": [
    "import flask\n",
    "from flask import Flask, jsonify, request, render_template\n",
    "import joblib\n",
    "import pickle\n",
    "import pandas as pd\n",
    "import shap\n",
    "import json\n",
    "import warnings\n"
   ]
  },
  {
   "cell_type": "code",
   "execution_count": null,
   "id": "42e69b33",
   "metadata": {},
   "outputs": [
    {
     "name": "stdout",
     "output_type": "stream",
     "text": [
      " * Serving Flask app '__main__'\n",
      " * Debug mode: off\n"
     ]
    },
    {
     "name": "stderr",
     "output_type": "stream",
     "text": [
      "WARNING: This is a development server. Do not use it in a production deployment. Use a production WSGI server instead.\n",
      " * Running on http://127.0.0.1:5000\n",
      "Press CTRL+C to quit\n"
     ]
    }
   ],
   "source": [
    "# Suppression warnings\n",
    "import warnings\n",
    "warnings.filterwarnings('ignore')\n",
    "#Chargement du tableau et du modèle\n",
    "\n",
    "\n",
    "# Suppression warnings\n",
    "warnings.filterwarnings('ignore')\n",
    "\n",
    "# Initialiser l'application Flask\n",
    "app = Flask(__name__)\n",
    "app.config[\"DEBUG\"] = False\n",
    "\n",
    "# Charger les données et le modèle\n",
    "df = pd.read_csv(\"data/X_sample.csv\")\n",
    "LGBMClassifier = pickle.load(open(\"modele/LGBMClassifier.pkl\", \"rb\"))\n",
    "df.drop(columns='TARGET', inplace=True)\n",
    "num_client = df.index.unique()\n",
    "\n",
    "@app.route('/')\n",
    "def home():\n",
    "    return \"api\"\n",
    "\n",
    "@app.route('/predict')\n",
    "def predict():\n",
    "    \"\"\"\n",
    "    Returns\n",
    "    liste des clients dans le fichier\n",
    "    \"\"\"\n",
    "    return jsonify({\n",
    "        \"model\": \"LGBMClassifier\",\n",
    "        \"list_client_id\" : list(num_client.astype(str))\n",
    "    })\n",
    "\n",
    "@app.route('/predict/<int:sk_id>',methods=['GET'])\n",
    "def predict_get(sk_id):\n",
    "    \"\"\"\n",
    "    Parameters\n",
    "    ----------\n",
    "    sk_id : numero de client\n",
    "\n",
    "    Returns\n",
    "    -------\n",
    "    prediction  0 pour paiement OK\n",
    "                1 pour defaut de paiement\n",
    "    \"\"\"\n",
    "    if sk_id in num_client:\n",
    "        predict = LGBMClassifier.predict(df.loc[sk_id].values.reshape(1,-1))\n",
    "        predict_proba = LGBMClassifier.predict_proba(df.loc[sk_id].values.reshape(1,-1))\n",
    "        predict_proba_0 = str(predict_proba[0][0])\n",
    "        predict_proba_1 = str(predict_proba[0][1])\n",
    "    else:\n",
    "        predict = predict_proba_0 = predict_proba_1 = \"client inconnu\"\n",
    "    return jsonify({\n",
    "        'retour_prediction' : str(predict),\n",
    "        'predict_proba_0': predict_proba_0,\n",
    "        'predict_proba_1': predict_proba_1\n",
    "    })\n",
    "\n",
    "@app.route('/details/<int:sk_id>')\n",
    "def client_details(sk_id):\n",
    "    \"\"\"\n",
    "    Parameters\n",
    "    ----------\n",
    "    sk_id : numero de client\n",
    "\n",
    "    Returns\n",
    "    -------\n",
    "    Détails des valeurs pour le client spécifié et moyennes de toutes les variables pour tous les clients.\n",
    "    \"\"\"\n",
    "    if sk_id in num_client:\n",
    "        client_data = df.loc[sk_id].to_dict()\n",
    "        mean_values = df.mean().to_dict()\n",
    "        return jsonify({\n",
    "            \"client_data\": client_data,\n",
    "            \"mean_values\": mean_values\n",
    "        })\n",
    "    else:\n",
    "        return jsonify({\"error\": \"client inconnu\"}), 404\n",
    "\n",
    "if __name__ == '__main__':\n",
    "    app.run()\n",
    "\n",
    "\n",
    "\n"
   ]
  },
  {
   "cell_type": "code",
   "execution_count": null,
   "id": "30c43632",
   "metadata": {},
   "outputs": [],
   "source": []
  }
 ],
 "metadata": {
  "kernelspec": {
   "display_name": "Python 3 (ipykernel)",
   "language": "python",
   "name": "python3"
  },
  "language_info": {
   "codemirror_mode": {
    "name": "ipython",
    "version": 3
   },
   "file_extension": ".py",
   "mimetype": "text/x-python",
   "name": "python",
   "nbconvert_exporter": "python",
   "pygments_lexer": "ipython3",
   "version": "3.11.5"
  }
 },
 "nbformat": 4,
 "nbformat_minor": 5
}
