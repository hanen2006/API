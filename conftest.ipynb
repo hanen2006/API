{
 "cells": [
  {
   "cell_type": "code",
   "execution_count": 1,
   "id": "ed47edf4",
   "metadata": {},
   "outputs": [
    {
     "name": "stderr",
     "output_type": "stream",
     "text": [
      "Using `tqdm.autonotebook.tqdm` in notebook mode. Use `tqdm.tqdm` instead to force console mode (e.g. in jupyter console)\n"
     ]
    },
    {
     "name": "stdout",
     "output_type": "stream",
     "text": [
      "   SK_ID_CURR  NAME_CONTRACT_TYPE  FLAG_OWN_CAR  AMT_INCOME_TOTAL  AMT_CREDIT  \\\n",
      "0      146052                 0.0           0.0          0.000742    0.318170   \n",
      "1      130113                 0.0           0.0          0.001012    0.056180   \n",
      "2      266110                 0.0           0.0          0.001127    0.197348   \n",
      "3      258144                 0.0           1.0          0.001127    0.115955   \n",
      "4      364058                 0.0           0.0          0.001396    0.046067   \n",
      "\n",
      "   AMT_ANNUITY  AMT_GOODS_PRICE  REGION_POPULATION_RELATIVE  DAYS_BIRTH  \\\n",
      "0     0.160179         0.277217                    0.064665    0.282300   \n",
      "1     0.064935         0.057239                    0.257000    0.437599   \n",
      "2     0.132239         0.158249                    0.635991    0.321026   \n",
      "3     0.126974         0.102132                    0.109945    0.306764   \n",
      "4     0.019867         0.047138                    0.491595    0.407272   \n",
      "\n",
      "   DAYS_EMPLOYED  ...  NAME_FAMILY_STATUS_Single / not married  \\\n",
      "0       0.963879  ...                                      0.0   \n",
      "1       0.990453  ...                                      1.0   \n",
      "2       0.950927  ...                                      0.0   \n",
      "3       0.856465  ...                                      0.0   \n",
      "4       0.834524  ...                                      0.0   \n",
      "\n",
      "   OCCUPATION_TYPE_Core staff  OCCUPATION_TYPE_Drivers  \\\n",
      "0                         0.0                      0.0   \n",
      "1                         0.0                      0.0   \n",
      "2                         0.0                      0.0   \n",
      "3                         0.0                      0.0   \n",
      "4                         1.0                      0.0   \n",
      "\n",
      "   OCCUPATION_TYPE_Laborers  ORGANIZATION_TYPE_Business Entity Type 3  \\\n",
      "0                       0.0                                       0.0   \n",
      "1                       0.0                                       0.0   \n",
      "2                       0.0                                       0.0   \n",
      "3                       1.0                                       0.0   \n",
      "4                       0.0                                       0.0   \n",
      "\n",
      "   ORGANIZATION_TYPE_Construction  ORGANIZATION_TYPE_Military  \\\n",
      "0                             0.0                         0.0   \n",
      "1                             0.0                         0.0   \n",
      "2                             0.0                         0.0   \n",
      "3                             0.0                         0.0   \n",
      "4                             0.0                         0.0   \n",
      "\n",
      "   ORGANIZATION_TYPE_Self-employed  ORGANIZATION_TYPE_Transport: type 3  \\\n",
      "0                              0.0                                  0.0   \n",
      "1                              0.0                                  0.0   \n",
      "2                              1.0                                  0.0   \n",
      "3                              0.0                                  0.0   \n",
      "4                              0.0                                  0.0   \n",
      "\n",
      "   TARGET  \n",
      "0     0.0  \n",
      "1     0.0  \n",
      "2     0.0  \n",
      "3     0.0  \n",
      "4     0.0  \n",
      "\n",
      "[5 rows x 121 columns]\n"
     ]
    }
   ],
   "source": [
    "import pytest\n",
    "from api import app  # Remplacez 'votre_nom_de_fichier' par le nom de votre fichier Python contenant l'API\n",
    "\n",
    "@pytest.fixture\n",
    "def client():\n",
    "    app.config['TESTING'] = True\n",
    "    with app.test_client() as client:\n",
    "        yield client\n",
    "\n"
   ]
  },
  {
   "cell_type": "code",
   "execution_count": null,
   "id": "eafd096c",
   "metadata": {},
   "outputs": [],
   "source": []
  }
 ],
 "metadata": {
  "kernelspec": {
   "display_name": "Python 3 (ipykernel)",
   "language": "python",
   "name": "python3"
  },
  "language_info": {
   "codemirror_mode": {
    "name": "ipython",
    "version": 3
   },
   "file_extension": ".py",
   "mimetype": "text/x-python",
   "name": "python",
   "nbconvert_exporter": "python",
   "pygments_lexer": "ipython3",
   "version": "3.11.5"
  }
 },
 "nbformat": 4,
 "nbformat_minor": 5
}
